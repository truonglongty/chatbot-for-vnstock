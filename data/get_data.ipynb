{
 "cells": [
  {
   "cell_type": "code",
   "execution_count": 1,
   "metadata": {},
   "outputs": [],
   "source": [
    "from vnstock import *"
   ]
  },
  {
   "cell_type": "code",
   "execution_count": 2,
   "metadata": {},
   "outputs": [],
   "source": [
    "listing_df = listing_companies()\n",
    "listing_df.drop(columns=['VN30','VNMID','VN100','VNSML','VNALL','HNX30','VNX50','VNXALL','VNDIAMOND','VNFINLEAD','VNFINSELECT','VNSI','VNCOND','VNCONS','VNENE','VNFIN','VNHEAL','VNIND','VNIT','VNMAT','VNREAL','VNUTI'], inplace=True)\n",
    "listing_df.to_csv('data.csv', index=False)"
   ]
  }
 ],
 "metadata": {
  "kernelspec": {
   "display_name": ".venv",
   "language": "python",
   "name": "python3"
  },
  "language_info": {
   "codemirror_mode": {
    "name": "ipython",
    "version": 3
   },
   "file_extension": ".py",
   "mimetype": "text/x-python",
   "name": "python",
   "nbconvert_exporter": "python",
   "pygments_lexer": "ipython3",
   "version": "3.11.3"
  }
 },
 "nbformat": 4,
 "nbformat_minor": 2
}
